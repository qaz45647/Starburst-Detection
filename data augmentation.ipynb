{
 "cells": [
  {
   "cell_type": "code",
   "execution_count": 1,
   "metadata": {},
   "outputs": [
    {
     "name": "stdout",
     "output_type": "stream",
     "text": [
      "f:\\桌面\\新增資料夾 (4)\n"
     ]
    }
   ],
   "source": [
    "cd F:\\桌面\\新增資料夾 (4)"
   ]
  },
  {
   "cell_type": "code",
   "execution_count": 43,
   "metadata": {},
   "outputs": [],
   "source": [
    "import cv2\n",
    "import os\n",
    "import albumentations as A\n",
    "\n",
    "# 定義增強操作\n",
    "transformations = {\n",
    "    'noise': A.Compose([A.GaussNoise(p=1)]),\n",
    "    'contrast': A.Compose([A.RandomContrast(p=1)]),\n",
    "    'brightness': A.Compose([A.RandomBrightness(p=1)])\n",
    "}\n",
    "\n",
    "# 讀取圖像的路徑\n",
    "img_dir = 'images'\n",
    "img_files = os.listdir(img_dir)\n",
    "\n",
    "# 對每種增強操作創建一個新的資料夾\n",
    "aug_dirs = {name: f'augmented_{name}_IMG' for name in transformations.keys()}\n",
    "for dir in aug_dirs.values():\n",
    "    os.makedirs(dir, exist_ok=True)\n",
    "\n",
    "# 對每個圖像進行增強操作\n",
    "for img_file in img_files:\n",
    "    # 檢查文件擴展名，如果不是圖片則跳過\n",
    "    if not img_file.lower().endswith(('.png', '.jpg', '.jpeg', '.tiff', '.bmp', '.gif')):\n",
    "        continue\n",
    "    # 讀取圖像\n",
    "    img = cv2.imread(os.path.join(img_dir, img_file), cv2.IMREAD_COLOR)\n",
    "\n",
    "    # 檢查圖片是否為 None 或不是 numpy 陣列\n",
    "    if img is None:\n",
    "        print(f\"Failed to read image file: {img_file}\")\n",
    "    elif not isinstance(img, np.ndarray):\n",
    "        print(f\"Image is not a numpy array: {img_file}, type: {type(img)}\")\n",
    "    else:\n",
    "        # 對每種增強操作進行處理\n",
    "        for name, transform in transformations.items():\n",
    "            # 增強圖像\n",
    "            augmented = transform(image=img)\n",
    "            aug_img = augmented['image']\n",
    "\n",
    "            # 保存增強後的圖像\n",
    "            new_img_file = f\"{name}_{img_file}\"\n",
    "            cv2.imwrite(os.path.join(aug_dirs[name], new_img_file), aug_img)\n",
    "\n"
   ]
  },
  {
   "cell_type": "code",
   "execution_count": 44,
   "metadata": {},
   "outputs": [],
   "source": [
    "import os\n",
    "import shutil\n",
    "\n",
    "\n",
    "def add_prefix_to_filename(dir_path, prefix):\n",
    "    # 獲取資料夾中的所有文件\n",
    "    files = os.listdir(dir_path)\n",
    "\n",
    "    # 對每個文件進行處理\n",
    "    for file in files:\n",
    "        # 檢查文件擴展名，如果不是 .txt 則跳過\n",
    "        if not file.lower().endswith('.txt'):\n",
    "            continue\n",
    "\n",
    "        # 創建新的文件名\n",
    "        new_file = f\"{prefix}_{file}\"\n",
    "\n",
    "        # 重命名文件\n",
    "        shutil.move(os.path.join(dir_path, file), os.path.join(dir_path, new_file))\n",
    "\n",
    "# 使用函數\n",
    "add_prefix_to_filename('augmented_brightness_label', 'brightness')\n",
    "add_prefix_to_filename('augmented_contrast_label', 'contrast')\n",
    "add_prefix_to_filename('augmented_noise_label', 'noise')\n"
   ]
  }
 ],
 "metadata": {
  "kernelspec": {
   "display_name": "ai23",
   "language": "python",
   "name": "python3"
  },
  "language_info": {
   "codemirror_mode": {
    "name": "ipython",
    "version": 3
   },
   "file_extension": ".py",
   "mimetype": "text/x-python",
   "name": "python",
   "nbconvert_exporter": "python",
   "pygments_lexer": "ipython3",
   "version": "3.9.18"
  }
 },
 "nbformat": 4,
 "nbformat_minor": 2
}
