{
 "cells": [
  {
   "cell_type": "code",
   "execution_count": 3,
   "metadata": {},
   "outputs": [],
   "source": [
    "import os\n",
    "import shutil\n",
    "import numpy as np\n",
    "\n",
    "def split_dataset(dir_path, train_p):\n",
    "    # 獲取資料夾中的所有文件\n",
    "    files = os.listdir(dir_path)\n",
    "    \n",
    "    # 隨機打亂文件\n",
    "    np.random.shuffle(files)\n",
    "    \n",
    "    # 計算訓練資料的數量\n",
    "    train_num = int(len(files) * train_p)\n",
    "    \n",
    "    # 分割訓練資料和測試資料\n",
    "    train_files = files[:train_num]\n",
    "    test_files = files[train_num:]\n",
    "    \n",
    "    # 創建訓練資料和測試資料的資料夾\n",
    "    train_dir = os.path.join(dir_path, 'train')\n",
    "    test_dir = os.path.join(dir_path, 'test')\n",
    "    os.makedirs(train_dir, exist_ok=True)\n",
    "    os.makedirs(test_dir, exist_ok=True)\n",
    "    \n",
    "    # 將訓練資料和測試資料移動到相應的資料夾\n",
    "    for file in train_files:\n",
    "        shutil.move(os.path.join(dir_path, file), os.path.join(train_dir, file))\n",
    "    for file in test_files:\n",
    "        shutil.move(os.path.join(dir_path, file), os.path.join(test_dir, file))\n",
    "\n",
    "# 使用函數\n",
    "split_dataset('dataset_train0.9\\images', 0.9)\n",
    "\n",
    "split_dataset('dataset_train0.8\\images', 0.8)\n",
    "\n",
    "split_dataset('dataset_train0.5\\images', 0.5)\n"
   ]
  },
  {
   "cell_type": "code",
   "execution_count": 18,
   "metadata": {},
   "outputs": [
    {
     "name": "stdout",
     "output_type": "stream",
     "text": [
      "No label file for desktop.ini, skipping.\n",
      "No label file for desktop.ini, skipping.\n"
     ]
    }
   ],
   "source": [
    "import os\n",
    "import shutil\n",
    "\n",
    "def split_label_dataset(img_dir_path, label_dir_path):\n",
    "    # 獲取標籤資料夾中的所有文件\n",
    "    label_files = [os.path.splitext(file)[0] for file in os.listdir(label_dir_path)]\n",
    "    \n",
    "    # 創建訓練資料和測試資料的資料夾\n",
    "    train_img_dir = os.path.join(img_dir_path, 'train')\n",
    "    test_img_dir = os.path.join(img_dir_path, 'test')\n",
    "    train_label_dir = os.path.join(label_dir_path, 'train')\n",
    "    test_label_dir = os.path.join(label_dir_path, 'test')\n",
    "    os.makedirs(train_label_dir, exist_ok=True)\n",
    "    os.makedirs(test_label_dir, exist_ok=True)\n",
    "    \n",
    "    # 將與圖片訓練資料夾中檔名相同的標籤分到標籤訓練資料夾\n",
    "    for img_file in os.listdir(train_img_dir):\n",
    "        img_file_no_ext = os.path.splitext(img_file)[0]\n",
    "        # 檢查標籤檔案是否存在\n",
    "        label_file_path = os.path.join(label_dir_path, img_file_no_ext + '.txt')\n",
    "        if os.path.exists(label_file_path):\n",
    "            # 移動標籤檔案\n",
    "            shutil.move(label_file_path, os.path.join(train_label_dir, img_file_no_ext + '.txt'))\n",
    "        else:\n",
    "            # 跳過該圖片\n",
    "            print(f\"No label file for {img_file}, skipping.\")\n",
    "    \n",
    "    # 將與圖片測試資料夾中檔名相同的標籤分到標籤測試資料夾\n",
    "    for img_file in os.listdir(test_img_dir):\n",
    "        img_file_no_ext = os.path.splitext(img_file)[0]\n",
    "        # 檢查標籤檔案是否存在\n",
    "        label_file_path = os.path.join(label_dir_path, img_file_no_ext + '.txt')\n",
    "        if os.path.exists(label_file_path):\n",
    "            # 移動標籤檔案\n",
    "            shutil.move(label_file_path, os.path.join(test_label_dir, img_file_no_ext + '.txt'))\n",
    "        else:\n",
    "            # 跳過該圖片\n",
    "            print(f\"No label file for {img_file}, skipping.\")\n",
    "\n",
    "# 使用函數\n",
    "split_label_dataset('dataset_train0.9/images', 'dataset_train0.9/labels')\n",
    "split_label_dataset('dataset_train0.8/images', 'dataset_train0.8/labels')\n",
    "split_label_dataset('dataset_train0.5/images', 'dataset_train0.5/labels')\n"
   ]
  }
 ],
 "metadata": {
  "kernelspec": {
   "display_name": "ai23",
   "language": "python",
   "name": "python3"
  },
  "language_info": {
   "codemirror_mode": {
    "name": "ipython",
    "version": 3
   },
   "file_extension": ".py",
   "mimetype": "text/x-python",
   "name": "python",
   "nbconvert_exporter": "python",
   "pygments_lexer": "ipython3",
   "version": "3.9.18"
  }
 },
 "nbformat": 4,
 "nbformat_minor": 2
}
